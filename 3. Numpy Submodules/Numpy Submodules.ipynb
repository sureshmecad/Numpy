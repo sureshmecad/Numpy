{
 "cells": [
  {
   "cell_type": "markdown",
   "metadata": {},
   "source": [
    "<h1 style=\"color:green\" align=\"center\"> Numpy Submodules </h1>"
   ]
  },
  {
   "cell_type": "markdown",
   "metadata": {},
   "source": [
    "https://www.tutorialspoint.com/numpy/index.htm"
   ]
  },
  {
   "cell_type": "raw",
   "metadata": {},
   "source": [
    "1. Data Types\n",
    "\n",
    "2. String Functions\n",
    "\n",
    "3. Sort, Search & Counting Functions\n",
    "\n",
    "4. NDArray\n",
    "\n",
    "5. Array Creation Routines\n",
    "\n",
    "6. Array From Existing Data\n",
    "\n",
    "7. Array From Numerical Ranges\n",
    "\n",
    "8. Iterating Over Array (numpy.nditer)\n",
    "\n",
    "9. Array Manipulation\n",
    "\n",
    "10. Array Attributes\n",
    "\n",
    "11. Broadcasting\n",
    "\n",
    "12. Matrix Library (numpy.matlib)\n",
    "\n",
    "13. Copies & Views\n",
    "\n",
    "14. Linear Algebra (numpy.linalg)\n",
    "\n",
    "15. Mathematical Functions\n",
    "\n",
    "16. Arithmetic Operations\n",
    "\n",
    "17. Statistical Functions\n",
    "\n",
    "18. Indexing & Slicing\n",
    "\n",
    "19. Advanced Indexing (Integer & Boolean)\n",
    "\n",
    "20. Matplotlib (from matplotlib import pyplot as plt)\n",
    "\n",
    "21. Histogram (numpy.histogram)\n",
    "\n",
    "22. I/O with NumPy"
   ]
  },
  {
   "cell_type": "markdown",
   "metadata": {},
   "source": [
    "### 1. Data Types\n",
    "\n",
    "            Data Type Objects (dtype)\n",
    "            \n",
    "            Data Types Supported by NumPy:\n",
    "            \n",
    "                 The dtype method determines the datatype of elements stored in NumPy array. You can also explicitly define\n",
    "                 the data type using the dtype option as an argument of array function.\n",
    "                 \n",
    "                 \n",
    "             Each built-in data type has a character code that uniquely identifies it.\n",
    "            \n",
    "                       'b' − boolean\n",
    "                       \n",
    "                       'i' − (signed) integer\n",
    "                       \n",
    "                       'u' − unsigned integer\n",
    "                       \n",
    "                       'f' − floating-point\n",
    "                       \n",
    "                       'c' − complex-floating point\n",
    "                       \n",
    "                       'm' − timedelta\n",
    "                       \n",
    "                       'M' − datetime\n",
    "                       \n",
    "                       'O' − (Python) objects\n",
    "                       \n",
    "                       'S', 'a' − (byte-)string\n",
    "                       \n",
    "                       'U' − Unicode\n",
    "                       \n",
    "                       'V' − raw data (void)"
   ]
  },
  {
   "cell_type": "markdown",
   "metadata": {},
   "source": [
    "### 2. String Functions\n",
    "\n",
    "            add()\n",
    "            \n",
    "            multiply()\n",
    "            \n",
    "            center()\n",
    "            \n",
    "            capitalize()\n",
    "            \n",
    "            title()\n",
    "            \n",
    "            lower()\n",
    "            \n",
    "            upper()\n",
    "            \n",
    "            split()\n",
    "            \n",
    "            splitlines()\n",
    "            \n",
    "            strip()\n",
    "            \n",
    "            join()\n",
    "            \n",
    "            replace()\n",
    "            \n",
    "            decode()\n",
    "            \n",
    "            encode()"
   ]
  },
  {
   "cell_type": "markdown",
   "metadata": {},
   "source": [
    "### 3. Sort, Search & Counting Functions\n",
    "\n",
    "             numpy.sort()\n",
    "             numpy.sort(a, axis, kind, order)\n",
    "             numpy.argsort()\n",
    "             numpy.lexsort()\n",
    "             \n",
    "             numpy.argmax() and numpy.argmin()\n",
    "             \n",
    "             numpy.nonzero()\n",
    "             \n",
    "             numpy.where()\n",
    "             \n",
    "             numpy.extract()"
   ]
  },
  {
   "cell_type": "markdown",
   "metadata": {},
   "source": [
    "### 4. NDArray\n",
    "\n",
    "         numpy.array\n",
    "         numpy.array(object, dtype = None, copy = True, order = None, subok = False, ndmin = 0)\n",
    "         \n",
    "         Attributes of ndarray:\n",
    "         \n",
    "               Shape\n",
    "         \n",
    "               Size\n",
    "         \n",
    "               Ndim\n",
    "         \n",
    "               nbytes\n",
    "         \n",
    "               dtype"
   ]
  },
  {
   "cell_type": "markdown",
   "metadata": {},
   "source": [
    "### 5. Array Creation Routines\n",
    "\n",
    "          numpy.empty\n",
    "          numpy.empty(shape, dtype = float, order = 'C')\n",
    "         \n",
    "          numpy.zeros\n",
    "          numpy.zeros(shape, dtype = float, order = 'C')\n",
    "        \n",
    "          numpy.ones\n",
    "          numpy.ones(shape, dtype = None, order = 'C')"
   ]
  },
  {
   "cell_type": "markdown",
   "metadata": {},
   "source": [
    "### 6. Array From Existing Data\n",
    "\n",
    "           numpy.asarray\n",
    "           numpy.asarray(a, dtype = None, order = None)\n",
    "         \n",
    "           numpy.frombuffer\n",
    "           numpy.frombuffer(buffer, dtype = float, count = -1, offset = 0)\n",
    "           \n",
    "           numpy.fromiter\n",
    "           numpy.fromiter(iterable, dtype, count = -1)"
   ]
  },
  {
   "cell_type": "markdown",
   "metadata": {},
   "source": [
    "### 7. Array From Numerical Ranges\n",
    "\n",
    "            numpy.arrange\n",
    "            numpy.arange(start, stop, step, dtype)\n",
    "               \n",
    "            numpy.linspace\n",
    "            numpy.linspace(start, stop, num, endpoint, retstep, dtype)\n",
    "               \n",
    "            numpy.logspace\n",
    "            numpy.logspace(start, stop, num, endpoint, base, dtype)"
   ]
  },
  {
   "cell_type": "markdown",
   "metadata": {},
   "source": [
    "### 8. Iterating Over Array (numpy.nditer)\n",
    "\n",
    "            numpy.nditer\n",
    "            \n",
    "            Iteration Order\n",
    "            \n",
    "            Modifying Array Values\n",
    "            \n",
    "            External Loop\n",
    "            \n",
    "            Broadcasting Iteration"
   ]
  },
  {
   "cell_type": "markdown",
   "metadata": {},
   "source": [
    "### 9. Array Manipulation\n",
    "\n",
    "           i). Changing Shape:\n",
    "\n",
    "                   a. Reshape\n",
    "                   b. Flat\n",
    "                   c. Flatten\n",
    "                   d. Ravel\n",
    "    \n",
    "           ii). Transpose Operations\n",
    "\n",
    "                   a. Transpose\n",
    "                   b. ndarray.T\n",
    "                   c. Rollaxis\n",
    "                   d. Swapaxes\n",
    "         \n",
    "          iii). Changing Dimensions\n",
    "\n",
    "                   a. Braodcast\n",
    "                   b. Braodcast to\n",
    "                   c. Expand dims\n",
    "                   d. Squeeze\n",
    "         \n",
    "           iv). Joining Arrays\n",
    "\n",
    "                   a. Concatenate\n",
    "                   b. Stack\n",
    "                   c. Hstack\n",
    "                   d. Vstack\n",
    "         \n",
    "           v). Splitting Arrays\n",
    "\n",
    "                   a. Split\n",
    "                   b. Hsplit\n",
    "                   c. Vsplit\n",
    "         \n",
    "           vi). Adding / Removing elements\n",
    "\n",
    "                   a. Resize\n",
    "                   b. Append\n",
    "                   c. Insert\n",
    "                   d. Delete\n",
    "                   e. Unique"
   ]
  },
  {
   "cell_type": "markdown",
   "metadata": {},
   "source": [
    "### 10. Array Attributes\n",
    "\n",
    "             i).   ndarray.shape\n",
    "\n",
    "             ii).  ndarray.ndim\n",
    "\n",
    "             iii). np.itemsize\n",
    "\n",
    "             iv).  np.flags"
   ]
  },
  {
   "cell_type": "markdown",
   "metadata": {},
   "source": [
    "### 11. Broadcasting"
   ]
  },
  {
   "cell_type": "markdown",
   "metadata": {},
   "source": [
    "### 12. Matrix Library (numpy.matlib)"
   ]
  },
  {
   "cell_type": "markdown",
   "metadata": {},
   "source": [
    "### 13. Copies & Views\n",
    "\n",
    "              i).   id()                  # No Copy\n",
    "\n",
    "              ii).  ndarray.view()        # View or Shallow Copy\n",
    "\n",
    "              iii). ndarray.copy()        # Deep Copy"
   ]
  },
  {
   "cell_type": "markdown",
   "metadata": {},
   "source": [
    "### 14. Linear Algebra (numpy.linalg)"
   ]
  },
  {
   "cell_type": "markdown",
   "metadata": {},
   "source": [
    "### 15. Mathematical Functions\n",
    "\n",
    "              Trigonometric Functions\n",
    "\n",
    "                      np.sin\n",
    "                      np.cos\n",
    "                      np.tan\n",
    "                      np.degrees\n",
    "                      np.arcsin(sin)      [Inverse of sin]\n",
    "                      np.arccos(cos)      [Inverse of cos]\n",
    "                      np.arctan(tan)      [Inverse of tan]\n",
    "           \n",
    "                      np.around()\n",
    "                      np.floor()\n",
    "                      np.ceil()\n",
    "\n",
    "               # arcsin, arcos, and arctan functions return the trigonometric inverse of sin, cos, & tan of the given angle"
   ]
  },
  {
   "cell_type": "markdown",
   "metadata": {},
   "source": [
    "### 16. Arithmetic Operations\n",
    "\n",
    "               numpy.add()\n",
    "\n",
    "               numpy.subtract()\n",
    "\n",
    "               numpy.multiply()\n",
    "\n",
    "               numpy.divide()\n",
    "\n",
    "               numpy.reciprocal()\n",
    "\n",
    "               numpy.power()\n",
    "\n",
    "               numpy.mod()  or numpy.remainder()\n",
    "\n",
    "               numpy.real()\n",
    "\n",
    "               numpy.imag()\n",
    "\n",
    "               numpy.conj()\n",
    "\n",
    "               numpy.angle()"
   ]
  },
  {
   "cell_type": "markdown",
   "metadata": {},
   "source": [
    "### 17. Statistical Functions\n",
    "\n",
    "                 np.min( )\n",
    "\n",
    "                 np.max( )\n",
    "\n",
    "                 np.mean()\n",
    "\n",
    "                 np.median()\n",
    "\n",
    "                 np.std()\n",
    "\n",
    "                 np.ptp()\n",
    "\n",
    "                 np.percentile()\n",
    "\n",
    "                 np.average()\n",
    "\n",
    "                 Variance"
   ]
  },
  {
   "cell_type": "markdown",
   "metadata": {},
   "source": [
    "### 18. Indexing & Slicing"
   ]
  },
  {
   "cell_type": "markdown",
   "metadata": {},
   "source": [
    "### 19. Advanced Indexing (Integer & Boolean)"
   ]
  },
  {
   "cell_type": "markdown",
   "metadata": {},
   "source": [
    "### 20. Matplotlib (from matplotlib import pyplot as plt)\n",
    "\n",
    "1. pyplot( ) is the most important function in matplotlib library, which is used to plot 2D data.\n",
    "           a. plot( ) function of pyplot submodule of matplotlib package.\n",
    "           b. subplot( )\n",
    "           c. bar( ) function of pyplot submodule used to generate bar graphs.\n",
    "          \n",
    "                           import numpy as np \n",
    "                           from matplotlib import pyplot as plt  \n",
    "\n",
    "                           # Plot the points using matplotlib \n",
    "                           plt.plot(x, y) \n",
    "                           plt.show()"
   ]
  },
  {
   "cell_type": "markdown",
   "metadata": {},
   "source": [
    "### 21. Histogram (numpy.histogram)\n",
    "\n",
    "             np.histogram( )\n",
    "\n",
    "             plt()"
   ]
  },
  {
   "cell_type": "markdown",
   "metadata": {},
   "source": [
    "### 22. I/O with NumPy\n",
    "\n",
    "             np.save()\n",
    "             \n",
    "             load()\n",
    "             \n",
    "             save()           # load() and save() functions handle /numPy binary files (with npy extension)\n",
    "             \n",
    "             savetxt()\n",
    "             \n",
    "             loadtxt()         # loadtxt() and savetxt() functions handle normal text files"
   ]
  }
 ],
 "metadata": {
  "kernelspec": {
   "display_name": "Python 3",
   "language": "python",
   "name": "python3"
  },
  "language_info": {
   "codemirror_mode": {
    "name": "ipython",
    "version": 3
   },
   "file_extension": ".py",
   "mimetype": "text/x-python",
   "name": "python",
   "nbconvert_exporter": "python",
   "pygments_lexer": "ipython3",
   "version": "3.7.3"
  }
 },
 "nbformat": 4,
 "nbformat_minor": 2
}
