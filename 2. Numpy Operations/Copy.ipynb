{
 "cells": [
  {
   "cell_type": "raw",
   "metadata": {},
   "source": [
    "*******************************************************************************************************************************"
   ]
  },
  {
   "cell_type": "markdown",
   "metadata": {},
   "source": [
    "## Copy"
   ]
  },
  {
   "cell_type": "raw",
   "metadata": {},
   "source": [
    "*******************************************************************************************************************************"
   ]
  },
  {
   "cell_type": "code",
   "execution_count": 1,
   "metadata": {},
   "outputs": [],
   "source": [
    "import numpy as np"
   ]
  },
  {
   "cell_type": "code",
   "execution_count": 4,
   "metadata": {},
   "outputs": [],
   "source": [
    "from numpy import *"
   ]
  },
  {
   "cell_type": "raw",
   "metadata": {},
   "source": [
    "import numpy as np\n",
    "\n",
    "arr1 = np.array([2,6,8,1,3])\n",
    "\n",
    "import numpy as np\n",
    "from numpy import *\n",
    "\n",
    "arr1 = np.array([2,6,8,1,3])"
   ]
  },
  {
   "cell_type": "code",
   "execution_count": 3,
   "metadata": {},
   "outputs": [
    {
     "name": "stdout",
     "output_type": "stream",
     "text": [
      "[2 6 8 1 3]\n",
      "[2 6 8 1 3]\n",
      "2538914464592\n",
      "2538914464592\n"
     ]
    }
   ],
   "source": [
    "arr1 = np.array([2,6,8,1,3])\n",
    "\n",
    "arr2 = arr1\n",
    "\n",
    "print(arr1)\n",
    "print(arr2)\n",
    "\n",
    "print(id(arr1))    # pointing to same address\n",
    "print(id(arr2))"
   ]
  },
  {
   "cell_type": "code",
   "execution_count": 5,
   "metadata": {},
   "outputs": [
    {
     "name": "stdout",
     "output_type": "stream",
     "text": [
      "[2 6 8 1 3]\n",
      "[2 6 8 1 3]\n",
      "2538914465152\n",
      "2538914465072\n"
     ]
    }
   ],
   "source": [
    "arr1 = array([2,6,8,1,3])\n",
    "\n",
    "arr2 = arr1.view()\n",
    "\n",
    "print(arr1)\n",
    "print(arr2)\n",
    "\n",
    "print(id(arr1))                  # pointing to different address\n",
    "print(id(arr2))"
   ]
  },
  {
   "cell_type": "code",
   "execution_count": 6,
   "metadata": {},
   "outputs": [
    {
     "name": "stdout",
     "output_type": "stream",
     "text": [
      "[2 7 8 1 3]\n",
      "[2 7 8 1 3]\n",
      "2538914465392\n",
      "2538914464432\n"
     ]
    }
   ],
   "source": [
    "arr1 = array([2,6,8,1,3])\n",
    "\n",
    "arr2 = arr1.view()\n",
    "\n",
    "arr1[1] = 7                   # shallow copy; same values for both arr1 & arr2\n",
    "\n",
    "print(arr1)\n",
    "print(arr2)\n",
    "\n",
    "print(id(arr1))\n",
    "print(id(arr2))"
   ]
  },
  {
   "cell_type": "code",
   "execution_count": 7,
   "metadata": {},
   "outputs": [
    {
     "name": "stdout",
     "output_type": "stream",
     "text": [
      "[2 7 8 1 3]\n",
      "[2 6 8 1 3]\n",
      "2538914465632\n",
      "2538914465712\n"
     ]
    }
   ],
   "source": [
    "arr1 = array([2,6,8,1,3])\n",
    "\n",
    "arr2 = arr1.copy()\n",
    "\n",
    "arr1[1] = 7                   # deep copy; different values for arr1 & arr2\n",
    "\n",
    "print(arr1)\n",
    "print(arr2)\n",
    "\n",
    "print(id(arr1))\n",
    "print(id(arr2))"
   ]
  }
 ],
 "metadata": {
  "kernelspec": {
   "display_name": "Python 3",
   "language": "python",
   "name": "python3"
  },
  "language_info": {
   "codemirror_mode": {
    "name": "ipython",
    "version": 3
   },
   "file_extension": ".py",
   "mimetype": "text/x-python",
   "name": "python",
   "nbconvert_exporter": "python",
   "pygments_lexer": "ipython3",
   "version": "3.7.3"
  }
 },
 "nbformat": 4,
 "nbformat_minor": 2
}
